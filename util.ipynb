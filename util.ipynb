{
 "cells": [
  {
   "cell_type": "code",
   "execution_count": 1,
   "metadata": {
    "collapsed": true
   },
   "outputs": [],
   "source": [
    "import numpy as np\n",
    "import pandas as pd\n",
    "import matplotlib.pyplot as plt\n",
    "import os\n"
   ]
  },
  {
   "cell_type": "code",
   "execution_count": 2,
   "metadata": {
    "collapsed": true
   },
   "outputs": [],
   "source": [
    "def daily_returns(df):\n",
    "    daily_returns = df.copy()\n",
    "    daily_returns[1:] = (df[1:] / df[:-1].values) - 1\n",
    "    daily_returns.iloc[0,:] = 0\n",
    "    return daily_returns"
   ]
  },
  {
   "cell_type": "code",
   "execution_count": 3,
   "metadata": {
    "collapsed": true
   },
   "outputs": [],
   "source": [
    "def fill_missing_values(df_data):\n",
    "    \"\"\"Fill missing values in data frame, in place.\"\"\"\n",
    "    ##########################################################\n",
    "    df_data.fillna(method='ffill',inplace=True)\n",
    "    df_data.fillna(method='bfill',inplace=True)"
   ]
  },
  {
   "cell_type": "code",
   "execution_count": 4,
   "metadata": {
    "collapsed": true
   },
   "outputs": [],
   "source": [
    "def symbol_to_path(symbol, base_dir=\"data\"):\n",
    "    \"\"\"Return CSV file path given ticker symbol.\"\"\"\n",
    "    return os.path.join(base_dir, \"{}.csv\".format(str(symbol)))"
   ]
  },
  {
   "cell_type": "code",
   "execution_count": 5,
   "metadata": {
    "collapsed": true
   },
   "outputs": [],
   "source": [
    "def get_data(symbols, dates):\n",
    "    \"\"\"Read stock data (adjusted close) for given symbols from CSV files.\"\"\"\n",
    "    df_final = pd.DataFrame(index=dates)\n",
    "    if \"SPY\" not in symbols:  # add SPY for reference, if absent\n",
    "        symbols.insert(0, \"SPY\")\n",
    "        \n",
    "    for symbol in symbols:\n",
    "        file_path = symbol_to_path(symbol)\n",
    "        df_temp = pd.read_csv(file_path, parse_dates=True, index_col=\"Date\",\n",
    "            usecols=[\"Date\", \"Adj Close\"], na_values=[\"nan\"])\n",
    "        df_temp = df_temp.rename(columns={\"Adj Close\": symbol})\n",
    "        df_final = df_final.join(df_temp)\n",
    "        if symbol == \"SPY\":  # drop dates SPY did not trade\n",
    "            df_final = df_final.dropna(subset=[\"SPY\"])\n",
    "    fill_missing_values(df_final)\n",
    "    return df_final"
   ]
  },
  {
   "cell_type": "code",
   "execution_count": null,
   "metadata": {
    "collapsed": true
   },
   "outputs": [],
   "source": [
    "def plot_data(df_data):\n",
    "    \"\"\"Plot stock data with appropriate axis labels.\"\"\"\n",
    "    ax = df_data.plot(title=\"Stock Data\", fontsize=2)\n",
    "    ax.set_xlabel(\"Date\")\n",
    "    ax.set_ylabel(\"Price\")\n",
    "    plt.show()"
   ]
  },
  {
   "cell_type": "code",
   "execution_count": null,
   "metadata": {
    "collapsed": true
   },
   "outputs": [],
   "source": [
    "def get_rolling_mean(values, window):\n",
    "    \"\"\"Return rolling mean of given values, using specified window size.\"\"\"\n",
    "    return values.rolling(window).mean()\n",
    "\n",
    "\n",
    "def get_rolling_std(values, window):\n",
    "    \"\"\"Return rolling standard deviation of given values, using specified window size.\"\"\"\n",
    "    return values.rolling(window).std()\n",
    "    # TODO: Compute and return rolling standard deviation\n",
    "\n",
    "\n",
    "def get_bollinger_bands(rm, rstd):\n",
    "    \"\"\"Return upper and lower Bollinger Bands.\"\"\"\n",
    "    # TODO: Compute upper_band and lower_band\n",
    "    upper_band = rm + rstd*2\n",
    "    lower_band = rm - rstd*2\n",
    "    return upper_band, lower_band"
   ]
  },
  {
   "cell_type": "code",
   "execution_count": null,
   "metadata": {
    "collapsed": true
   },
   "outputs": [],
   "source": [
    "def plot_bollinger_bands(df_data,symbol,window=20):\n",
    "    # Compute rolling mean\n",
    "    rm = get_rolling_mean(df_data[symbol],window)\n",
    "    \n",
    "    #Compute std deviation\n",
    "    rstd = get_rolling_std(df_data[symbol],window)\n",
    "    \n",
    "    #Compute Bollinger Bands\n",
    "    upper_band,lower_band = get_bollinger_bands(rm,rstd)\n",
    "    \n",
    "    #Plots\n",
    "    ## plot raw 'symbol' data followed by mean and bollinger bands\n",
    "    ax = df_data[symbol].plot(title=\"Bollinger\",label=symbol)\n",
    "    rm.plot(label=\"Rolling Mean\", ax=ax)\n",
    "    upper_band.plot(label='upper band', ax=ax)\n",
    "    lower_band.plot(label='lower band', ax=ax)\n",
    "    \n",
    "    #add legend\n",
    "    ax.set_xlabel('Date')\n",
    "    ax.set_ylabel('Price')\n",
    "    ax.legend(loc='upper left')\n",
    "    plt.show()"
   ]
  }
 ],
 "metadata": {
  "kernelspec": {
   "display_name": "Python 3",
   "language": "python",
   "name": "python3"
  },
  "language_info": {
   "codemirror_mode": {
    "name": "ipython",
    "version": 3
   },
   "file_extension": ".py",
   "mimetype": "text/x-python",
   "name": "python",
   "nbconvert_exporter": "python",
   "pygments_lexer": "ipython3",
   "version": "3.6.3"
  }
 },
 "nbformat": 4,
 "nbformat_minor": 2
}
